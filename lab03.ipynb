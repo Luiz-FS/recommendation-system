{
 "cells": [
  {
   "cell_type": "code",
   "execution_count": 1,
   "metadata": {},
   "outputs": [],
   "source": [
    "import pandas as pd\n",
    "import os\n",
    "from surprise import Dataset, KNNBasic, Reader, accuracy, SVD\n",
    "from surprise.model_selection import cross_validate, PredefinedKFold"
   ]
  },
  {
   "cell_type": "code",
   "execution_count": 2,
   "metadata": {},
   "outputs": [],
   "source": [
    "items_stream = open('ml-100k/u.item', 'r')\n",
    "item_data = items_stream.read().split('\\n')\n",
    "item_data = list(map(lambda item: item.split('|')[:2], item_data))\n",
    "items_stream.close()"
   ]
  },
  {
   "cell_type": "code",
   "execution_count": 3,
   "metadata": {},
   "outputs": [],
   "source": [
    "data_stream = open('ml-100k/u1.base', 'r')\n",
    "data_list = data_stream.read().split('\\n')\n",
    "data_list = list(map(lambda case: case.split('\\t')[:2], data_list))\n",
    "data_list = data_list[:len(data_list) -1]\n",
    "data_stream.close()\n",
    "\n",
    "user_id, item_id = zip(*data_list)\n",
    "user_set = set(user_id)\n",
    "item_set = set(item_id)\n",
    "\n",
    "database = pd.DataFrame({'user_id': user_id, 'item_id': item_id})\n",
    "not_watch = {user: item_set.difference(database.query('user_id == %s' %(user)).item_id) for user in user_set}"
   ]
  },
  {
   "cell_type": "code",
   "execution_count": 4,
   "metadata": {},
   "outputs": [
    {
     "name": "stdout",
     "output_type": "stream",
     "text": [
      "Computing the cosine similarity matrix...\n",
      "Done computing similarity matrix.\n"
     ]
    }
   ],
   "source": [
    "# path to dataset folder\n",
    "files_dir = os.path.expanduser('ml-100k/')\n",
    "\n",
    "# This time, we'll use the built-in reader.\n",
    "reader = Reader('ml-100k')\n",
    "\n",
    "# folds_files is a list of tuples containing file paths:\n",
    "# [(u1.base, u1.test), (u2.base, u2.test), ... (u5.base, u5.test)]\n",
    "train_file = files_dir + 'u%d.base'\n",
    "test_file = files_dir + 'u%d.test'\n",
    "folds_files = [(train_file % i, test_file % i) for i in [1]]\n",
    "\n",
    "data = Dataset.load_from_folds(folds_files, reader=reader)\n",
    "pkf = PredefinedKFold()\n",
    "\n",
    "sim_options = {\n",
    "    'name': 'cosine',\n",
    "    'user_based': True  # compute  similarities between items\n",
    "}\n",
    "\n",
    "algo = KNNBasic(sim_options=sim_options, k=4, min_k=2)\n",
    "\n",
    "for trainset, testset in pkf.split(data):\n",
    "\n",
    "    # train and test algorithm.\n",
    "    algo.fit(trainset)"
   ]
  },
  {
   "cell_type": "code",
   "execution_count": 5,
   "metadata": {},
   "outputs": [],
   "source": [
    "def get_top_5(uid):\n",
    "    top = []\n",
    "    items = not_watch[uid]\n",
    "    \n",
    "    for item in items:\n",
    "        top.append((item, algo.predict(uid=uid, iid=item).est))\n",
    "    \n",
    "    return sorted(top, key=lambda item: item[1], reverse=True)[:5]"
   ]
  },
  {
   "cell_type": "code",
   "execution_count": 6,
   "metadata": {},
   "outputs": [
    {
     "name": "stdout",
     "output_type": "stream",
     "text": [
      "[('98', 5), ('478', 5), ('479', 5), ('315', 5), ('89', 5)]\n",
      "['99', 'Snow White and the Seven Dwarfs (1937)']\n",
      "['479', 'Vertigo (1958)']\n",
      "['480', 'North by Northwest (1959)']\n",
      "['316', 'As Good As It Gets (1997)']\n",
      "['90', 'So I Married an Axe Murderer (1993)']\n"
     ]
    }
   ],
   "source": [
    "five = get_top_5('100')\n",
    "print(five)\n",
    "\n",
    "for item in five:\n",
    "    print(item_data[int(item[0])])"
   ]
  }
 ],
 "metadata": {
  "kernelspec": {
   "display_name": "Python 3",
   "language": "python",
   "name": "python3"
  },
  "language_info": {
   "codemirror_mode": {
    "name": "ipython",
    "version": 3
   },
   "file_extension": ".py",
   "mimetype": "text/x-python",
   "name": "python",
   "nbconvert_exporter": "python",
   "pygments_lexer": "ipython3",
   "version": "3.6.5"
  }
 },
 "nbformat": 4,
 "nbformat_minor": 2
}

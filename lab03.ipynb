{
 "cells": [
  {
   "cell_type": "markdown",
   "metadata": {},
   "source": [
    "# Tema do Projeto: Sistema de recomendação de filmes\n",
    "## Autor: Luiz Fernando da Silva\n",
    "### Descrição:\n",
    "\n",
    "Este projeto tem como objetivo desenvolver um sistema de recomendação de filmes simples baseado nos dados retirados do site [Movielens](https://grouplens.org/datasets/movielens/). Essa base de dados foi desenvolvida durante 7 meses por meio do site da MovieLens (movielens.umn.edu) no período de 19 de setembro, 1997 até 22 de abril de 1998. Após a coleta, os dados foram filtrados e os usuário que possuiam menos de 20 avaliações foram removidos. A partir desses dados foi desenvolvido um sistema de recomendação de filmes baseado em dois algoritimos (KNN e SVD) que serão mostrados abaixo."
   ]
  },
  {
   "cell_type": "code",
   "execution_count": 1,
   "metadata": {},
   "outputs": [],
   "source": [
    "import pandas as pd\n",
    "import os\n",
    "from surprise import Dataset, KNNBasic, Reader, accuracy, SVD\n",
    "from surprise.model_selection import cross_validate, PredefinedKFold"
   ]
  },
  {
   "cell_type": "markdown",
   "metadata": {},
   "source": [
    "# Lendo o conjunto de dados\n",
    "Nos 3 blocos de código abaixo os dados são lidos de modo a criar um dataset do conjunto de treino e de teste, um set de ids de usuários e um set de ids de items (filmes). O conjunto de dados utilizado é o [ml-100k](https://grouplens.org/datasets/movielens/)"
   ]
  },
  {
   "cell_type": "code",
   "execution_count": 2,
   "metadata": {},
   "outputs": [],
   "source": [
    "items_stream = open('ml-100k/u.item', 'r')\n",
    "item_data = items_stream.read().split('\\n')\n",
    "item_data = list(map(lambda item: item.split('|')[:2], item_data))\n",
    "items_stream.close()"
   ]
  },
  {
   "cell_type": "code",
   "execution_count": 3,
   "metadata": {},
   "outputs": [],
   "source": [
    "database = pd.read_csv('ml-100k/u1.base.csv')\n",
    "user_set = set(database.user_id)\n",
    "item_set = set(database.item_id)\n",
    "not_watch = {user: item_set.difference(database.query('user_id == %s' %(user)).item_id) for user in user_set}"
   ]
  },
  {
   "cell_type": "code",
   "execution_count": 4,
   "metadata": {},
   "outputs": [],
   "source": [
    "files_dir = os.path.expanduser('ml-100k/')\n",
    "reader = Reader('ml-100k')\n",
    "\n",
    "train_file = files_dir + 'u1.base'\n",
    "test_file = files_dir + 'u1.test'\n",
    "folds_files = [(train_file, test_file)]\n",
    "\n",
    "data = Dataset.load_from_folds(folds_files, reader=reader)\n",
    "pkf = PredefinedKFold()"
   ]
  },
  {
   "cell_type": "markdown",
   "metadata": {},
   "source": [
    "# Treinando os algoritimos e calculando o RMSE com o conjunto de treino\n",
    "Nesta análise utilizamos dois diferente algoritimos de recomendação para visualizar as diferenças e semelhanças entre eles. Os algoritimos utilizados formam o KNN e o SVD.\n",
    "\n",
    "## KNN\n",
    "\n",
    "* A ideia principal do KNN é determinar o rótulo de classificação de uma amostra baseado nas amostras vizinhas advindas de um conjunto de treinamento.\n",
    "* Passos:\n",
    " + 1-Escolha um vértice arbitrário como vértice atual.\n",
    " + 2-Descubra a aresta de menor peso que seja conectada ao vértice atual e a um vértice não visitado V.\n",
    " + 3-Faça o vértice atual ser V.\n",
    " + 4-Marque V como visitado.\n",
    " + 5-Se todos os vértices no domínio estiverem visitados, encerre o algoritmo.\n",
    " + 6-Se não vá para o passo 2.\n",
    "* Para mais detalhes sobre como funciona o algoritimo pela biblioteca [aqui](http://surprise.readthedocs.io/en/stable/knn_inspired.html#surprise.prediction_algorithms.knns.KNNBasic).\n",
    "\n",
    "## SVD\n",
    "\n",
    "O algoritmo SVD foi popularizado por Simon Funk durante o Prêmio Netflix. Ele se baseia na fatoração de matrizes para gerar suas predições. Para mais detalhes sobre como funciona o algoritimo pela biblioteca [aqui](http://surprise.readthedocs.io/en/stable/matrix_factorization.html#matrix-factorization-based-algorithms)."
   ]
  },
  {
   "cell_type": "code",
   "execution_count": 5,
   "metadata": {},
   "outputs": [
    {
     "name": "stdout",
     "output_type": "stream",
     "text": [
      "Computing the cosine similarity matrix...\n",
      "Done computing similarity matrix.\n",
      "KNN RMSE: 1.1118\n",
      "SVD RMSE: 0.9507\n"
     ]
    }
   ],
   "source": [
    "sim_options = {\n",
    "    'name': 'cosine',\n",
    "    'user_based': True  # compute  similarities between users\n",
    "}\n",
    "\n",
    "algo_knn = KNNBasic(sim_options=sim_options, k=4, min_k=2)\n",
    "algo_svd = SVD()\n",
    "\n",
    "for trainset, testset in pkf.split(data):\n",
    "\n",
    "    # train and test algorithm.\n",
    "    algo_knn.fit(trainset)\n",
    "    algo_svd.fit(trainset)\n",
    "    predictions_knn = algo_knn.test(testset)\n",
    "    predictions_svd = algo_svd.test(testset)\n",
    "    print('KNN RMSE: %.4f' % accuracy.rmse(predictions_knn, verbose=False))\n",
    "    print('SVD RMSE: %.4f' % accuracy.rmse(predictions_svd, verbose=False))\n",
    "    "
   ]
  },
  {
   "cell_type": "markdown",
   "metadata": {},
   "source": [
    "# Métodos utilizados para pegar os top k usuários e filmes\n",
    "\n",
    "Os métodos abaixo foram criados para retornar os 5 filmes que possuem uma estimação de avaliação mais alta utilizando os algoritmos KNN e SVD. E para retornar os 5 usuários mais relacionados ao que está sendo passado por parâmetro."
   ]
  },
  {
   "cell_type": "code",
   "execution_count": 6,
   "metadata": {},
   "outputs": [],
   "source": [
    "def get_top_5_knn(uid):\n",
    "    top = []\n",
    "    items = not_watch[int(uid)]\n",
    "    \n",
    "    for item in items:\n",
    "        top.append((item, algo_knn.predict(uid=uid, iid=str(item)).est))\n",
    "    \n",
    "    return sorted(top, key=lambda item: item[1], reverse=True)[:5]\n",
    "\n",
    "\n",
    "def get_top_5_movies_knn(uid):\n",
    "    top_5 = get_top_5_knn(uid)\n",
    "    return [item_data[int(item[0])][1] for item in top_5]"
   ]
  },
  {
   "cell_type": "code",
   "execution_count": 7,
   "metadata": {},
   "outputs": [],
   "source": [
    "def get_top_5_svd(uid):\n",
    "    top = []\n",
    "    items = not_watch[int(uid)]\n",
    "    \n",
    "    for item in items:\n",
    "        top.append((item, algo_svd.predict(uid=uid, iid=str(item)).est))\n",
    "    \n",
    "    return sorted(top, key=lambda item: item[1], reverse=True)[:5]\n",
    "\n",
    "\n",
    "def get_top_5_movies_svd(uid):\n",
    "    top_5 = get_top_5_svd(uid)\n",
    "    return [item_data[int(item[0])][1] for item in top_5]"
   ]
  },
  {
   "cell_type": "code",
   "execution_count": 8,
   "metadata": {},
   "outputs": [],
   "source": [
    "def get_top_5_neighbors(uid):\n",
    "    sim_matriz = algo_knn.sim\n",
    "    inner_uid = algo_knn.trainset.to_inner_uid(uid)\n",
    "    neighbords = algo_knn.get_neighbors(iid=inner_uid, k=5)\n",
    "    neighbords_cos = []\n",
    "    \n",
    "    for iid in neighbords:\n",
    "        neighbord = algo_knn.trainset.to_raw_uid(iid)\n",
    "        cos = sim_matriz[int(uid)-1, int(neighbord)-1]\n",
    "        \n",
    "        neighbords_cos.append(\"%.4f - %.4f\" %(float(neighbord), float(cos)))\n",
    "        \n",
    "    return neighbords_cos"
   ]
  },
  {
   "cell_type": "markdown",
   "metadata": {},
   "source": [
    "# Calculando Resultados\n",
    "Utilizando os métodos acima foram calculadas as recomendações de filmes para o usuário de id 339 usando o KNN e o SVD. Também foi calculado os 5 usuários mais relacionados ao que está sendo passado.\n",
    "\n",
    "## Aplicado os algoritmos para o usuário de id 339\n",
    "\n",
    "|         Recomendações KNN            |      Recomendações SVD       | Usuário mais próximos | Similaridade (por distância de cosseno) |\n",
    "|:------------------------------------:|:----------------------------:|:---------------------:|:--------------:|\n",
    "| Dead Man Walking (1995)              | Jack (1996)                  |           4           |        1       |\n",
    "| I.Q. (1994)                          | Army of Darkness (1993)      |          19           |        1       |\n",
    "| Empire Strikes Back, The (1980)      | Cinema Paradiso (1988)       |          31           |        1       |\n",
    "| Bridge on the River Kwai, The (1957) | First Wives Club, The (1996) |          33           |        1       |\n",
    "| Vertigo (1958)                       | Annie Hall (1977)            |          39           |        1       |\n",
    "\n",
    "## Resultado da análise de precisão dos algoritimos\n",
    "\n",
    "| Algoritimo |  RMSE  |\n",
    "|:----------:|:------:|\n",
    "|    KNN     | 1.1118 |\n",
    "|    SVD     | 0.9498 |"
   ]
  }
 ],
 "metadata": {
  "kernelspec": {
   "display_name": "Python 3",
   "language": "python",
   "name": "python3"
  },
  "language_info": {
   "codemirror_mode": {
    "name": "ipython",
    "version": 3
   },
   "file_extension": ".py",
   "mimetype": "text/x-python",
   "name": "python",
   "nbconvert_exporter": "python",
   "pygments_lexer": "ipython3",
   "version": "3.6.5"
  }
 },
 "nbformat": 4,
 "nbformat_minor": 2
}
